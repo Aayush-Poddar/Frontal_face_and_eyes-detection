{
 "cells": [
  {
   "cell_type": "code",
   "execution_count": 20,
   "metadata": {},
   "outputs": [],
   "source": [
    "import cv2\n",
    "import numpy as np\n",
    "\n",
    "face_cascade=cv2.CascadeClassifier('haarcascade_frontalface_default.xml')\n",
    "eye_cascade=cv2.CascadeClassifier('haarcascade_eye.xml')\n",
    "#smile_cascade=cv2.CascadeClassifier('haarcascade_smile.xml')\n",
    "\n",
    "#img=cv2.imread('Chandler.png')\n",
    "video=cv2.VideoCapture(0)\n",
    "\n",
    "while True:\n",
    "  check,frame=video.read()\n",
    "  gray=cv2.cvtColor(frame,cv2.COLOR_BGR2GRAY)\n",
    "  faces=face_cascade.detectMultiScale(gray,1.1,4)\n",
    "  eyes=eye_cascade.detectMultiScale(gray,1.1,4)\n",
    "  smile=smile_cascade.detectMultiScale(gray,1.1,4)\n",
    "\n",
    "  for(x,y,w,h) in faces:\n",
    "    cv2.rectangle(frame,(x,y),(x+w,y+h),(255,0,0),3)\n",
    "    for(a,b,c,d) in eyes:\n",
    "       cv2.rectangle(frame,(a,b),(a+c,b+d),(0,255,0),2)\n",
    "    #   for(e,f,g,h) in smile:\n",
    "    #      cv2.rectangle(frame,(e,f),(e+g,f+h),(0,0,255),2) \n",
    "    \n",
    "\n",
    "  cv2.imshow(\"frame\",frame)\n",
    "  key=cv2.waitKey(1)\n",
    "    \n",
    "  if key==ord('s'):\n",
    "        break    \n",
    "  if not check:\n",
    "        break\n",
    "\n",
    "video.release()\n",
    "cv2.destroyAllWindows()"
   ]
  },
  {
   "cell_type": "code",
   "execution_count": null,
   "metadata": {},
   "outputs": [],
   "source": []
  },
  {
   "cell_type": "code",
   "execution_count": null,
   "metadata": {},
   "outputs": [],
   "source": []
  }
 ],
 "metadata": {
  "kernelspec": {
   "display_name": "Python 3",
   "language": "python",
   "name": "python3"
  },
  "language_info": {
   "codemirror_mode": {
    "name": "ipython",
    "version": 3
   },
   "file_extension": ".py",
   "mimetype": "text/x-python",
   "name": "python",
   "nbconvert_exporter": "python",
   "pygments_lexer": "ipython3",
   "version": "3.8.5"
  }
 },
 "nbformat": 4,
 "nbformat_minor": 4
}
